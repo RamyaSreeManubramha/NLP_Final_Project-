{
 "cells": [
  {
   "cell_type": "code",
   "execution_count": 2,
   "id": "e787913b-837f-4211-8d79-141a3fb43fdc",
   "metadata": {},
   "outputs": [
    {
     "name": "stderr",
     "output_type": "stream",
     "text": [
      "[nltk_data] Downloading package stopwords to\n",
      "[nltk_data]     C:\\Users\\mramy\\AppData\\Roaming\\nltk_data...\n",
      "[nltk_data]   Package stopwords is already up-to-date!\n",
      "[nltk_data] Downloading package wordnet to\n",
      "[nltk_data]     C:\\Users\\mramy\\AppData\\Roaming\\nltk_data...\n",
      "[nltk_data]   Package wordnet is already up-to-date!\n",
      "[nltk_data] Downloading package omw-1.4 to\n",
      "[nltk_data]     C:\\Users\\mramy\\AppData\\Roaming\\nltk_data...\n",
      "[nltk_data]   Package omw-1.4 is already up-to-date!\n"
     ]
    }
   ],
   "source": [
    "# importing tabular data and matrices handlers\n",
    "import pandas as pd\n",
    "import numpy as np\n",
    "\n",
    "# importing string operations\n",
    "import re\n",
    "import string\n",
    "import nltk\n",
    "nltk.download('stopwords')\n",
    "from nltk.corpus import stopwords\n",
    "nltk.download('wordnet')\n",
    "nltk.download('omw-1.4')\n",
    "from nltk.stem import WordNetLemmatizer\n",
    "\n",
    "# sklearn\n",
    "from sklearn.model_selection import train_test_split\n",
    "from sklearn.metrics import confusion_matrix\n",
    "from sklearn.metrics import classification_report\n",
    "from sklearn.utils import class_weight\n",
    "\n",
    "# keras\n",
    "from keras_preprocessing.text import Tokenizer\n",
    "from keras_preprocessing.sequence import pad_sequences\n",
    "from tensorflow.keras.layers import Embedding, LSTM, Dense, Bidirectional\n",
    "from tensorflow.keras.models import Sequential\n",
    "from tensorflow.keras.callbacks import EarlyStopping, TensorBoard\n",
    "from tensorflow.keras.models import load_model\n",
    "from tensorflow.keras.callbacks import ModelCheckpoint"
   ]
  },
  {
   "cell_type": "code",
   "execution_count": 3,
   "id": "40961292-c9d7-4c8f-ad16-a1db83c0f0b4",
   "metadata": {},
   "outputs": [],
   "source": [
    "# oversampling\n",
    "from imblearn.over_sampling import SMOTE\n",
    "\n",
    "# importing visualization packages\n",
    "import matplotlib as mpl\n",
    "from matplotlib import pyplot as plt\n",
    "import seaborn as sns\n",
    "\n",
    "# configuring visualizations\n",
    "%matplotlib inline\n",
    "mpl.style.use( 'ggplot' )\n",
    "plt.style.use('fivethirtyeight')\n",
    "sns.set(context=\"notebook\", palette=\"dark\", style = 'whitegrid' , color_codes=True)\n",
    "params = { \n",
    "    'axes.labelsize': \"small\",\n",
    "    'xtick.labelsize': 'small',\n",
    "    'legend.fontsize': 20,\n",
    "    'figure.dpi': 100,\n",
    "    'figure.figsize': [15, 7]\n",
    "}\n",
    "plt.rcParams.update(params)\n",
    "\n",
    "# utilities\n",
    "import os\n",
    "import zipfile\n",
    "from collections import Counter"
   ]
  },
  {
   "cell_type": "code",
   "execution_count": 4,
   "id": "f8547279-0d19-4341-b810-f157b62d733b",
   "metadata": {},
   "outputs": [
    {
     "name": "stdout",
     "output_type": "stream",
     "text": [
      "File downloaded as C:/Users/mramy/Downloads/earphones/glove.6B.zip\n"
     ]
    }
   ],
   "source": [
    "# word embeddings\n",
    "import urllib.request\n",
    "\n",
    "url = \"https://downloads.cs.stanford.edu/nlp/data/glove.6B.zip\"\n",
    "output_path = \"C:/Users/mramy/Downloads/earphones/glove.6B.zip\"\n",
    "\n",
    "# Download the file\n",
    "urllib.request.urlretrieve(url, output_path)\n",
    "\n",
    "print(f\"File downloaded as {output_path}\")\n"
   ]
  },
  {
   "cell_type": "code",
   "execution_count": 5,
   "id": "8ed9fdb6-d0ca-459b-885d-60503b1b5058",
   "metadata": {},
   "outputs": [],
   "source": [
    "# given the path, reading the dataset\n",
    "def get_dataframe(csv_path):\n",
    "  df_new = pd.read_csv(csv_path,low_memory=False)\n",
    "  return df_new\n",
    "     \n",
    "\n",
    "# updating the column names\n",
    "def update_column_names(df_existing):\n",
    "  df_existing.rename(columns={'reviews.rating': 'rating', 'reviews.text': 'text'}, inplace=True)\n",
    "  return df_existing\n",
    "     \n",
    "\n",
    "# dropping all columns apart from the ones of interest\n",
    "def drop_unnecessary_columns(df_exisiting):\n",
    "  df_exisiting.drop(df_exisiting.columns.difference(['rating','text']), axis=1, inplace=True)\n",
    "  return df_exisiting\n",
    "     \n",
    "\n",
    "# mapping the rating (1,2,3,4,5) to a sentiment class (negative, neutral, positive) in the existing dataframe\n",
    "# rating 1 and 2 to negative (0)\n",
    "# rating 3 to neutral (1)\n",
    "# rating 4 and 5 to positve (2)\n",
    "\n",
    "# creating new columns named 'sentiment_score' and 'sentiment' that will hold the values post mapping\n",
    "def get_mapped_dataframe(df_existing):\n",
    "  rating_to_sentiment = {\n",
    "      1 : 0,\n",
    "      2 : 0,\n",
    "      3 : 1,\n",
    "      4 : 2,\n",
    "      5 : 2\n",
    "  }\n",
    "\n",
    "  score_to_sentiment = {\n",
    "      0 : 'Negative',\n",
    "      1 : 'Neutral',\n",
    "      2 : 'Positive'\n",
    "  }\n",
    "\n",
    "  df_existing['sentiment_score'] = df_existing['rating'].map(rating_to_sentiment)\n",
    "  df_existing['sentiment'] = df_existing['sentiment_score'].map(score_to_sentiment)\n",
    "\n",
    "  return df_existing\n",
    "     \n",
    "\n",
    "# viewing class balance by getting count per sentiment\n",
    "def get_count_per_sentiment(df_existing):\n",
    "  count_per_sentiment = df_existing.groupby('sentiment_score').count()['sentiment'].reset_index().sort_values(by='sentiment',ascending=False)\n",
    "  return count_per_sentiment\n",
    "     \n",
    "\n",
    "# viewing the plot of top words per sentiment\n",
    "def get_top_words_per_sentiment(df_existing):\n",
    "  top = Counter([item for sublist in df_existing['words'] for item in sublist])\n",
    "  top_words = pd.DataFrame(top.most_common(15))\n",
    "  top_words.columns = ['top_words','count']\n",
    "  return sns.barplot(x=\"count\", y=\"top_words\", data=top_words)\n",
    "     \n"
   ]
  },
  {
   "cell_type": "code",
   "execution_count": 6,
   "id": "55d0881b-eac5-4b16-83b8-a028509b5bca",
   "metadata": {},
   "outputs": [],
   "source": [
    "\n",
    "# reading dataset in a dataframe\n",
    "csv_path = \"C:/Users/mramy/Downloads/earphones/AllProductReviews.csv\"\n",
    "df_reviews = get_dataframe(csv_path)"
   ]
  },
  {
   "cell_type": "code",
   "execution_count": 7,
   "id": "f932a25d-ddab-4df8-907b-29d180062b63",
   "metadata": {},
   "outputs": [
    {
     "name": "stdout",
     "output_type": "stream",
     "text": [
      "<class 'pandas.core.frame.DataFrame'>\n",
      "RangeIndex: 14337 entries, 0 to 14336\n",
      "Data columns (total 4 columns):\n",
      " #   Column       Non-Null Count  Dtype \n",
      "---  ------       --------------  ----- \n",
      " 0   ReviewTitle  14337 non-null  object\n",
      " 1   ReviewBody   14337 non-null  object\n",
      " 2   ReviewStar   14337 non-null  int64 \n",
      " 3   Product      14337 non-null  object\n",
      "dtypes: int64(1), object(3)\n",
      "memory usage: 448.2+ KB\n"
     ]
    }
   ],
   "source": [
    "# viewing the shape of the dataframe\n",
    "df_reviews.shape\n",
    "\n",
    "# viewing the high level information of the dataframe\n",
    "df_reviews.info()"
   ]
  },
  {
   "cell_type": "code",
   "execution_count": 8,
   "id": "77ed19cd-ed3e-49cf-802c-226de3139aac",
   "metadata": {},
   "outputs": [],
   "source": [
    "# updating the column names\n",
    "df_reviews.rename(columns={\"ReviewStar\": \"rating\", \"ReviewBody\": \"text\"}, inplace=True)"
   ]
  },
  {
   "cell_type": "code",
   "execution_count": 9,
   "id": "72569fd5-dddc-41a0-84cc-5ca829aa18de",
   "metadata": {},
   "outputs": [],
   "source": [
    "# dropping all columns apart from the ones of interest\n",
    "df_reviews.drop(columns=[\"ReviewTitle\",\"Product\"], inplace=True)"
   ]
  },
  {
   "cell_type": "code",
   "execution_count": 10,
   "id": "cb4b0370-915f-4cdc-a667-747ba0ca031f",
   "metadata": {},
   "outputs": [
    {
     "name": "stdout",
     "output_type": "stream",
     "text": [
      "<class 'pandas.core.frame.DataFrame'>\n",
      "RangeIndex: 14337 entries, 0 to 14336\n",
      "Data columns (total 2 columns):\n",
      " #   Column  Non-Null Count  Dtype \n",
      "---  ------  --------------  ----- \n",
      " 0   text    14337 non-null  object\n",
      " 1   rating  14337 non-null  int64 \n",
      "dtypes: int64(1), object(1)\n",
      "memory usage: 224.1+ KB\n"
     ]
    }
   ],
   "source": [
    "df_reviews.info()\n",
    "     \n"
   ]
  },
  {
   "cell_type": "code",
   "execution_count": 11,
   "id": "70429fa4-bac4-48b1-8df0-738df3867c1f",
   "metadata": {},
   "outputs": [],
   "source": [
    "\n",
    "# dropping rows that have null values\n",
    "df_reviews.dropna(inplace=True)"
   ]
  },
  {
   "cell_type": "code",
   "execution_count": 12,
   "id": "996e8ae4-b6db-49bf-b30a-b1d3694ec2cb",
   "metadata": {},
   "outputs": [
    {
     "name": "stdout",
     "output_type": "stream",
     "text": [
      "<class 'pandas.core.frame.DataFrame'>\n",
      "RangeIndex: 14337 entries, 0 to 14336\n",
      "Data columns (total 2 columns):\n",
      " #   Column  Non-Null Count  Dtype \n",
      "---  ------  --------------  ----- \n",
      " 0   text    14337 non-null  object\n",
      " 1   rating  14337 non-null  int64 \n",
      "dtypes: int64(1), object(1)\n",
      "memory usage: 224.1+ KB\n"
     ]
    }
   ],
   "source": [
    "# viewing the high level information of the dataset after dropping rows\n",
    "df_reviews.info()\n",
    "     "
   ]
  },
  {
   "cell_type": "code",
   "execution_count": 13,
   "id": "fb4fb7f7-e7fb-4e1f-a8c2-f0b88c278bfd",
   "metadata": {},
   "outputs": [
    {
     "data": {
      "text/html": [
       "<div>\n",
       "<style scoped>\n",
       "    .dataframe tbody tr th:only-of-type {\n",
       "        vertical-align: middle;\n",
       "    }\n",
       "\n",
       "    .dataframe tbody tr th {\n",
       "        vertical-align: top;\n",
       "    }\n",
       "\n",
       "    .dataframe thead th {\n",
       "        text-align: right;\n",
       "    }\n",
       "</style>\n",
       "<table border=\"1\" class=\"dataframe\">\n",
       "  <thead>\n",
       "    <tr style=\"text-align: right;\">\n",
       "      <th></th>\n",
       "      <th>text</th>\n",
       "      <th>rating</th>\n",
       "    </tr>\n",
       "  </thead>\n",
       "  <tbody>\n",
       "    <tr>\n",
       "      <th>0</th>\n",
       "      <td>No doubt it has a great bass and to a great ex...</td>\n",
       "      <td>3</td>\n",
       "    </tr>\n",
       "    <tr>\n",
       "      <th>1</th>\n",
       "      <td>This  earphones are unreliable, i bought it be...</td>\n",
       "      <td>1</td>\n",
       "    </tr>\n",
       "    <tr>\n",
       "      <th>2</th>\n",
       "      <td>i bought itfor 999,I purchased it second time,...</td>\n",
       "      <td>4</td>\n",
       "    </tr>\n",
       "    <tr>\n",
       "      <th>3</th>\n",
       "      <td>Its sound quality is adorable. overall it was ...</td>\n",
       "      <td>1</td>\n",
       "    </tr>\n",
       "    <tr>\n",
       "      <th>4</th>\n",
       "      <td>Its Awesome... Good sound quality &amp; 8-9 hrs ba...</td>\n",
       "      <td>5</td>\n",
       "    </tr>\n",
       "  </tbody>\n",
       "</table>\n",
       "</div>"
      ],
      "text/plain": [
       "                                                text  rating\n",
       "0  No doubt it has a great bass and to a great ex...       3\n",
       "1  This  earphones are unreliable, i bought it be...       1\n",
       "2  i bought itfor 999,I purchased it second time,...       4\n",
       "3  Its sound quality is adorable. overall it was ...       1\n",
       "4  Its Awesome... Good sound quality & 8-9 hrs ba...       5"
      ]
     },
     "execution_count": 13,
     "metadata": {},
     "output_type": "execute_result"
    }
   ],
   "source": [
    "# viewing first five rows of the dataset\n",
    "df_reviews.head()\n",
    "     "
   ]
  },
  {
   "cell_type": "code",
   "execution_count": 14,
   "id": "769c66f0-7089-4f86-8c2c-3abbfe5a5cd3",
   "metadata": {},
   "outputs": [],
   "source": [
    "# creating new columns named 'sentiment_score' and 'sentiment' that will hold the values post mapping\n",
    "df_reviews = get_mapped_dataframe(df_reviews)"
   ]
  },
  {
   "cell_type": "code",
   "execution_count": 15,
   "id": "ff79555f-3162-4f58-9bdf-06e09f8a36af",
   "metadata": {},
   "outputs": [
    {
     "data": {
      "text/html": [
       "<div>\n",
       "<style scoped>\n",
       "    .dataframe tbody tr th:only-of-type {\n",
       "        vertical-align: middle;\n",
       "    }\n",
       "\n",
       "    .dataframe tbody tr th {\n",
       "        vertical-align: top;\n",
       "    }\n",
       "\n",
       "    .dataframe thead th {\n",
       "        text-align: right;\n",
       "    }\n",
       "</style>\n",
       "<table border=\"1\" class=\"dataframe\">\n",
       "  <thead>\n",
       "    <tr style=\"text-align: right;\">\n",
       "      <th></th>\n",
       "      <th>text</th>\n",
       "      <th>rating</th>\n",
       "      <th>sentiment_score</th>\n",
       "      <th>sentiment</th>\n",
       "    </tr>\n",
       "  </thead>\n",
       "  <tbody>\n",
       "    <tr>\n",
       "      <th>0</th>\n",
       "      <td>No doubt it has a great bass and to a great ex...</td>\n",
       "      <td>3</td>\n",
       "      <td>1</td>\n",
       "      <td>Neutral</td>\n",
       "    </tr>\n",
       "    <tr>\n",
       "      <th>1</th>\n",
       "      <td>This  earphones are unreliable, i bought it be...</td>\n",
       "      <td>1</td>\n",
       "      <td>0</td>\n",
       "      <td>Negative</td>\n",
       "    </tr>\n",
       "    <tr>\n",
       "      <th>2</th>\n",
       "      <td>i bought itfor 999,I purchased it second time,...</td>\n",
       "      <td>4</td>\n",
       "      <td>2</td>\n",
       "      <td>Positive</td>\n",
       "    </tr>\n",
       "    <tr>\n",
       "      <th>3</th>\n",
       "      <td>Its sound quality is adorable. overall it was ...</td>\n",
       "      <td>1</td>\n",
       "      <td>0</td>\n",
       "      <td>Negative</td>\n",
       "    </tr>\n",
       "    <tr>\n",
       "      <th>4</th>\n",
       "      <td>Its Awesome... Good sound quality &amp; 8-9 hrs ba...</td>\n",
       "      <td>5</td>\n",
       "      <td>2</td>\n",
       "      <td>Positive</td>\n",
       "    </tr>\n",
       "  </tbody>\n",
       "</table>\n",
       "</div>"
      ],
      "text/plain": [
       "                                                text  rating  sentiment_score  \\\n",
       "0  No doubt it has a great bass and to a great ex...       3                1   \n",
       "1  This  earphones are unreliable, i bought it be...       1                0   \n",
       "2  i bought itfor 999,I purchased it second time,...       4                2   \n",
       "3  Its sound quality is adorable. overall it was ...       1                0   \n",
       "4  Its Awesome... Good sound quality & 8-9 hrs ba...       5                2   \n",
       "\n",
       "  sentiment  \n",
       "0   Neutral  \n",
       "1  Negative  \n",
       "2  Positive  \n",
       "3  Negative  \n",
       "4  Positive  "
      ]
     },
     "execution_count": 15,
     "metadata": {},
     "output_type": "execute_result"
    }
   ],
   "source": [
    "# viewing first five rows of the dataset after mapping\n",
    "df_reviews.head()\n",
    "     \n"
   ]
  },
  {
   "cell_type": "code",
   "execution_count": 16,
   "id": "0dade062-3b8c-4b1f-99f7-4f3b30ec2a11",
   "metadata": {},
   "outputs": [
    {
     "data": {
      "text/html": [
       "<div>\n",
       "<style scoped>\n",
       "    .dataframe tbody tr th:only-of-type {\n",
       "        vertical-align: middle;\n",
       "    }\n",
       "\n",
       "    .dataframe tbody tr th {\n",
       "        vertical-align: top;\n",
       "    }\n",
       "\n",
       "    .dataframe thead th {\n",
       "        text-align: right;\n",
       "    }\n",
       "</style>\n",
       "<table border=\"1\" class=\"dataframe\">\n",
       "  <thead>\n",
       "    <tr style=\"text-align: right;\">\n",
       "      <th></th>\n",
       "      <th>sentiment_score</th>\n",
       "      <th>sentiment</th>\n",
       "    </tr>\n",
       "  </thead>\n",
       "  <tbody>\n",
       "    <tr>\n",
       "      <th>2</th>\n",
       "      <td>2</td>\n",
       "      <td>9402</td>\n",
       "    </tr>\n",
       "    <tr>\n",
       "      <th>0</th>\n",
       "      <td>0</td>\n",
       "      <td>3432</td>\n",
       "    </tr>\n",
       "    <tr>\n",
       "      <th>1</th>\n",
       "      <td>1</td>\n",
       "      <td>1503</td>\n",
       "    </tr>\n",
       "  </tbody>\n",
       "</table>\n",
       "</div>"
      ],
      "text/plain": [
       "   sentiment_score  sentiment\n",
       "2                2       9402\n",
       "0                0       3432\n",
       "1                1       1503"
      ]
     },
     "execution_count": 16,
     "metadata": {},
     "output_type": "execute_result"
    }
   ],
   "source": [
    "# viewing class balance by getting count per sentiment\n",
    "get_count_per_sentiment(df_reviews)"
   ]
  },
  {
   "cell_type": "code",
   "execution_count": 17,
   "id": "c11b1ac8-cb68-406f-86f5-8c70ec9bcbd5",
   "metadata": {},
   "outputs": [
    {
     "data": {
      "text/plain": [
       "sentiment_score\n",
       "2    9402\n",
       "0    3432\n",
       "1    1503\n",
       "Name: count, dtype: int64"
      ]
     },
     "execution_count": 17,
     "metadata": {},
     "output_type": "execute_result"
    }
   ],
   "source": [
    "df_reviews['sentiment_score'].value_counts()"
   ]
  },
  {
   "cell_type": "code",
   "execution_count": 18,
   "id": "86b51641-6fbc-4515-a9b4-2f0dd0394754",
   "metadata": {},
   "outputs": [
    {
     "data": {
      "text/plain": [
       "sentiment\n",
       "Positive    9402\n",
       "Negative    3432\n",
       "Neutral     1503\n",
       "Name: count, dtype: int64"
      ]
     },
     "execution_count": 18,
     "metadata": {},
     "output_type": "execute_result"
    }
   ],
   "source": [
    "df_reviews['sentiment'].value_counts()"
   ]
  },
  {
   "cell_type": "code",
   "execution_count": 19,
   "id": "533aeadd-2fe6-46ad-bbea-f053e5116f9e",
   "metadata": {},
   "outputs": [
    {
     "data": {
      "image/png": "[encoded data removed]",
      "text/plain": [
       "<Figure size 800x800 with 1 Axes>"
      ]
     },
     "metadata": {},
     "output_type": "display_data"
    }
   ],
   "source": [
    "sentiment_counts = df_reviews['sentiment'].value_counts()\n",
    "labels=sentiment_counts.index,\n",
    "# Plot the pie chart\n",
    "plt.figure(figsize=(8, 8))\n",
    "plt.pie(\n",
    "    sentiment_counts, \n",
    "    labels=sentiment_counts.index, \n",
    "    autopct='%1.1f%%', \n",
    "    startangle=140, \n",
    "    colors=['gold', 'lightcoral', 'lightskyblue'],\n",
    "    \n",
    ")\n",
    "plt.title('Sentiment Distribution')\n",
    "plt.show()\n",
    "number_of_classes = len(labels)"
   ]
  },
  {
   "cell_type": "code",
   "execution_count": 20,
   "id": "1276b613-ce98-49f5-9f6f-82b0be14f6c9",
   "metadata": {},
   "outputs": [],
   "source": [
    "# viewing sentiment distribution\n",
    "data = df_reviews['sentiment_score'].value_counts()\n",
    "labels = df_reviews['sentiment'].unique()\n",
    "number_of_classes = len(labels)\n"
   ]
  },
  {
   "cell_type": "code",
   "execution_count": 21,
   "id": "04bc7d1c-5773-4b6f-b613-f57377837612",
   "metadata": {},
   "outputs": [
    {
     "data": {
      "text/html": [
       "<div>\n",
       "<style scoped>\n",
       "    .dataframe tbody tr th:only-of-type {\n",
       "        vertical-align: middle;\n",
       "    }\n",
       "\n",
       "    .dataframe tbody tr th {\n",
       "        vertical-align: top;\n",
       "    }\n",
       "\n",
       "    .dataframe thead th {\n",
       "        text-align: right;\n",
       "    }\n",
       "</style>\n",
       "<table border=\"1\" class=\"dataframe\">\n",
       "  <thead>\n",
       "    <tr style=\"text-align: right;\">\n",
       "      <th></th>\n",
       "      <th>text</th>\n",
       "      <th>rating</th>\n",
       "      <th>sentiment_score</th>\n",
       "      <th>sentiment</th>\n",
       "    </tr>\n",
       "  </thead>\n",
       "  <tbody>\n",
       "    <tr>\n",
       "      <th>2</th>\n",
       "      <td>i bought itfor 999,I purchased it second time,...</td>\n",
       "      <td>4</td>\n",
       "      <td>2</td>\n",
       "      <td>Positive</td>\n",
       "    </tr>\n",
       "    <tr>\n",
       "      <th>4</th>\n",
       "      <td>Its Awesome... Good sound quality &amp; 8-9 hrs ba...</td>\n",
       "      <td>5</td>\n",
       "      <td>2</td>\n",
       "      <td>Positive</td>\n",
       "    </tr>\n",
       "    <tr>\n",
       "      <th>6</th>\n",
       "      <td>Sound-4.5/5Build quality-4.5/5Battery life -4/...</td>\n",
       "      <td>4</td>\n",
       "      <td>2</td>\n",
       "      <td>Positive</td>\n",
       "    </tr>\n",
       "    <tr>\n",
       "      <th>8</th>\n",
       "      <td>I can’t get enough of this earphone! The bass ...</td>\n",
       "      <td>5</td>\n",
       "      <td>2</td>\n",
       "      <td>Positive</td>\n",
       "    </tr>\n",
       "    <tr>\n",
       "      <th>10</th>\n",
       "      <td>The sound quality is good. I mean it can’t be ...</td>\n",
       "      <td>4</td>\n",
       "      <td>2</td>\n",
       "      <td>Positive</td>\n",
       "    </tr>\n",
       "  </tbody>\n",
       "</table>\n",
       "</div>"
      ],
      "text/plain": [
       "                                                 text  rating  \\\n",
       "2   i bought itfor 999,I purchased it second time,...       4   \n",
       "4   Its Awesome... Good sound quality & 8-9 hrs ba...       5   \n",
       "6   Sound-4.5/5Build quality-4.5/5Battery life -4/...       4   \n",
       "8   I can’t get enough of this earphone! The bass ...       5   \n",
       "10  The sound quality is good. I mean it can’t be ...       4   \n",
       "\n",
       "    sentiment_score sentiment  \n",
       "2                 2  Positive  \n",
       "4                 2  Positive  \n",
       "6                 2  Positive  \n",
       "8                 2  Positive  \n",
       "10                2  Positive  "
      ]
     },
     "execution_count": 21,
     "metadata": {},
     "output_type": "execute_result"
    }
   ],
   "source": [
    "df_reviews[df_reviews['sentiment']=='Positive'].head()"
   ]
  },
  {
   "cell_type": "code",
   "execution_count": 22,
   "id": "a4732bc9-6724-42f4-a2dd-6d327e8b2ad3",
   "metadata": {},
   "outputs": [
    {
     "data": {
      "text/html": [
       "<div>\n",
       "<style scoped>\n",
       "    .dataframe tbody tr th:only-of-type {\n",
       "        vertical-align: middle;\n",
       "    }\n",
       "\n",
       "    .dataframe tbody tr th {\n",
       "        vertical-align: top;\n",
       "    }\n",
       "\n",
       "    .dataframe thead th {\n",
       "        text-align: right;\n",
       "    }\n",
       "</style>\n",
       "<table border=\"1\" class=\"dataframe\">\n",
       "  <thead>\n",
       "    <tr style=\"text-align: right;\">\n",
       "      <th></th>\n",
       "      <th>text</th>\n",
       "      <th>rating</th>\n",
       "      <th>sentiment_score</th>\n",
       "      <th>sentiment</th>\n",
       "    </tr>\n",
       "  </thead>\n",
       "  <tbody>\n",
       "    <tr>\n",
       "      <th>0</th>\n",
       "      <td>No doubt it has a great bass and to a great ex...</td>\n",
       "      <td>3</td>\n",
       "      <td>1</td>\n",
       "      <td>Neutral</td>\n",
       "    </tr>\n",
       "    <tr>\n",
       "      <th>7</th>\n",
       "      <td>After one month usage reviewing this .Pros-1- ...</td>\n",
       "      <td>3</td>\n",
       "      <td>1</td>\n",
       "      <td>Neutral</td>\n",
       "    </tr>\n",
       "    <tr>\n",
       "      <th>15</th>\n",
       "      <td>Received this BoAt 255 earphones yesterday eve...</td>\n",
       "      <td>3</td>\n",
       "      <td>1</td>\n",
       "      <td>Neutral</td>\n",
       "    </tr>\n",
       "    <tr>\n",
       "      <th>17</th>\n",
       "      <td>The product is a good buy if you are looking f...</td>\n",
       "      <td>3</td>\n",
       "      <td>1</td>\n",
       "      <td>Neutral</td>\n",
       "    </tr>\n",
       "    <tr>\n",
       "      <th>19</th>\n",
       "      <td>he only problem is that as earpieces are of me...</td>\n",
       "      <td>3</td>\n",
       "      <td>1</td>\n",
       "      <td>Neutral</td>\n",
       "    </tr>\n",
       "  </tbody>\n",
       "</table>\n",
       "</div>"
      ],
      "text/plain": [
       "                                                 text  rating  \\\n",
       "0   No doubt it has a great bass and to a great ex...       3   \n",
       "7   After one month usage reviewing this .Pros-1- ...       3   \n",
       "15  Received this BoAt 255 earphones yesterday eve...       3   \n",
       "17  The product is a good buy if you are looking f...       3   \n",
       "19  he only problem is that as earpieces are of me...       3   \n",
       "\n",
       "    sentiment_score sentiment  \n",
       "0                 1   Neutral  \n",
       "7                 1   Neutral  \n",
       "15                1   Neutral  \n",
       "17                1   Neutral  \n",
       "19                1   Neutral  "
      ]
     },
     "execution_count": 22,
     "metadata": {},
     "output_type": "execute_result"
    }
   ],
   "source": [
    "df_reviews[df_reviews['sentiment']=='Neutral'].head()"
   ]
  },
  {
   "cell_type": "code",
   "execution_count": 23,
   "id": "76996986-8f0c-4922-bdcc-f056eb05daf4",
   "metadata": {},
   "outputs": [
    {
     "data": {
      "text/html": [
       "<div>\n",
       "<style scoped>\n",
       "    .dataframe tbody tr th:only-of-type {\n",
       "        vertical-align: middle;\n",
       "    }\n",
       "\n",
       "    .dataframe tbody tr th {\n",
       "        vertical-align: top;\n",
       "    }\n",
       "\n",
       "    .dataframe thead th {\n",
       "        text-align: right;\n",
       "    }\n",
       "</style>\n",
       "<table border=\"1\" class=\"dataframe\">\n",
       "  <thead>\n",
       "    <tr style=\"text-align: right;\">\n",
       "      <th></th>\n",
       "      <th>text</th>\n",
       "      <th>rating</th>\n",
       "      <th>sentiment_score</th>\n",
       "      <th>sentiment</th>\n",
       "    </tr>\n",
       "  </thead>\n",
       "  <tbody>\n",
       "    <tr>\n",
       "      <th>1</th>\n",
       "      <td>This  earphones are unreliable, i bought it be...</td>\n",
       "      <td>1</td>\n",
       "      <td>0</td>\n",
       "      <td>Negative</td>\n",
       "    </tr>\n",
       "    <tr>\n",
       "      <th>3</th>\n",
       "      <td>Its sound quality is adorable. overall it was ...</td>\n",
       "      <td>1</td>\n",
       "      <td>0</td>\n",
       "      <td>Negative</td>\n",
       "    </tr>\n",
       "    <tr>\n",
       "      <th>5</th>\n",
       "      <td>After 11 days, the charging port isn't working...</td>\n",
       "      <td>1</td>\n",
       "      <td>0</td>\n",
       "      <td>Negative</td>\n",
       "    </tr>\n",
       "    <tr>\n",
       "      <th>9</th>\n",
       "      <td>The product durability is 1 month..I just lost...</td>\n",
       "      <td>1</td>\n",
       "      <td>0</td>\n",
       "      <td>Negative</td>\n",
       "    </tr>\n",
       "    <tr>\n",
       "      <th>11</th>\n",
       "      <td>What on earth is the use of buying such produc...</td>\n",
       "      <td>1</td>\n",
       "      <td>0</td>\n",
       "      <td>Negative</td>\n",
       "    </tr>\n",
       "  </tbody>\n",
       "</table>\n",
       "</div>"
      ],
      "text/plain": [
       "                                                 text  rating  \\\n",
       "1   This  earphones are unreliable, i bought it be...       1   \n",
       "3   Its sound quality is adorable. overall it was ...       1   \n",
       "5   After 11 days, the charging port isn't working...       1   \n",
       "9   The product durability is 1 month..I just lost...       1   \n",
       "11  What on earth is the use of buying such produc...       1   \n",
       "\n",
       "    sentiment_score sentiment  \n",
       "1                 0  Negative  \n",
       "3                 0  Negative  \n",
       "5                 0  Negative  \n",
       "9                 0  Negative  \n",
       "11                0  Negative  "
      ]
     },
     "execution_count": 23,
     "metadata": {},
     "output_type": "execute_result"
    }
   ],
   "source": [
    "df_reviews[df_reviews['sentiment']=='Negative'].head()"
   ]
  },
  {
   "cell_type": "markdown",
   "id": "83555a13-7da7-4715-be05-53d6f07bdad5",
   "metadata": {},
   "source": [
    "#Data Cleaning"
   ]
  },
  {
   "cell_type": "code",
   "execution_count": 24,
   "id": "88769761-ea0d-43e9-bb13-4079126c7569",
   "metadata": {},
   "outputs": [],
   "source": [
    "import re\n",
    "import string\n",
    "from nltk.corpus import stopwords\n",
    "from nltk.stem import WordNetLemmatizer\n",
    "\n",
    "# Initialize lemmatizer\n",
    "wordnet_lemmatizer = WordNetLemmatizer()\n",
    "\n",
    "def get_cleaned_text(text):\n",
    "    text = str(text)  # Ensure text is a string\n",
    "\n",
    "    # Remove punctuation\n",
    "    text = text.translate(str.maketrans('', '', string.punctuation))\n",
    "\n",
    "    # Convert to lowercase and strip whitespace\n",
    "    text = text.strip().lower()\n",
    "\n",
    "    # Remove stopwords\n",
    "    stop_words = set(stopwords.words(\"english\"))\n",
    "    words = text.split()\n",
    "    words = [word for word in words if word not in stop_words and len(word) >= 3]\n",
    "\n",
    "    # Rejoin the text\n",
    "    text = \" \".join(words)\n",
    "\n",
    "    # Regex cleaning\n",
    "    text = re.sub(r\"[^A-Za-z0-9^,!.\\/'+-=]\", \" \", text)\n",
    "    text = re.sub(r\"\\s{2,}\", \" \", text)  # Replace multiple spaces with single space\n",
    "    text = re.sub(r\"what's\", \"what is \", text)\n",
    "    text = re.sub(r\"\\'s\", \" \", text)\n",
    "    text = re.sub(r\"\\'ve\", \" have \", text)\n",
    "    text = re.sub(r\"n't\", \" not \", text)\n",
    "    text = re.sub(r\"i'm\", \" i am \", text)\n",
    "    text = re.sub(r\"\\'re\", \" are \", text)\n",
    "    text = re.sub(r\"\\'d\", \" would \", text)\n",
    "    text = re.sub(r\"\\'ll\", \" will \", text)\n",
    "    text = re.sub(r\",\", \" \", text)\n",
    "    text = re.sub(r\"\\.\", \" \", text)\n",
    "    text = re.sub(r\"!\", \" ! \", text)\n",
    "    text = re.sub(r\"\\/\", \" \", text)\n",
    "    text = re.sub(r\"\\^\", \" ^ \", text)\n",
    "    text = re.sub(r\"\\+\", \" + \", text)\n",
    "    text = re.sub(r\"\\-\", \" - \", text)\n",
    "    text = re.sub(r\"\\=\", \" = \", text)\n",
    "    text = re.sub(r\"'\", \" \", text)\n",
    "    text = re.sub(r\"(\\d+)(k)\", r\"\\g<1>000\", text)\n",
    "    text = re.sub(r\":\", \" : \", text)\n",
    "    text = re.sub(r\" e g \", \" eg \", text)\n",
    "    text = re.sub(r\" b g \", \" bg \", text)\n",
    "    text = re.sub(r\" u s \", \" american \", text)\n",
    "    text = re.sub(r\"\\0s\", \"0\", text)\n",
    "    text = re.sub(r\" 9 11 \", \"911\", text)\n",
    "    text = re.sub(r\"e - mail\", \"email\", text)\n",
    "    text = re.sub(r\"j k\", \"jk\", text)\n",
    "    text = re.sub(r\"\\s{2,}\", \" \", text)\n",
    "    text = re.sub(r\"(@\\[A-Za-z0-9]+)|([^0-9A-Za-z \\t])|(\\w+:\\/\\/\\S+)|^rt|http.+?\", \"\", text)\n",
    "    text = re.sub(\"<.*?>+\", \"\", text)\n",
    "    text = re.sub(\"$\", \"\", text)\n",
    "    text = re.sub(\"\\s+\", \" \", text)\n",
    "    text = re.sub(\" \\d+\", \" \", text)\n",
    "    text = re.sub(\"\\w*\\d\\w*\", \"\", text)\n",
    "    text = re.sub(\" .*?\", \"\", text)\n",
    "    text = re.sub(\"\\n\", \"\", text)\n",
    "\n",
    "    # Lemmatize words\n",
    "    lemmatized_words = [wordnet_lemmatizer.lemmatize(word) for word in text.split()]\n",
    "    text = \" \".join(lemmatized_words)\n",
    "\n",
    "    return text\n"
   ]
  },
  {
   "cell_type": "code",
   "execution_count": 25,
   "id": "df9f2ac4-c6f7-4a02-ac41-cf138b53cda8",
   "metadata": {},
   "outputs": [
    {
     "data": {
      "text/html": [
       "<div>\n",
       "<style scoped>\n",
       "    .dataframe tbody tr th:only-of-type {\n",
       "        vertical-align: middle;\n",
       "    }\n",
       "\n",
       "    .dataframe tbody tr th {\n",
       "        vertical-align: top;\n",
       "    }\n",
       "\n",
       "    .dataframe thead th {\n",
       "        text-align: right;\n",
       "    }\n",
       "</style>\n",
       "<table border=\"1\" class=\"dataframe\">\n",
       "  <thead>\n",
       "    <tr style=\"text-align: right;\">\n",
       "      <th></th>\n",
       "      <th>text</th>\n",
       "      <th>rating</th>\n",
       "      <th>sentiment_score</th>\n",
       "      <th>sentiment</th>\n",
       "    </tr>\n",
       "  </thead>\n",
       "  <tbody>\n",
       "    <tr>\n",
       "      <th>0</th>\n",
       "      <td>No doubt it has a great bass and to a great ex...</td>\n",
       "      <td>3</td>\n",
       "      <td>1</td>\n",
       "      <td>Neutral</td>\n",
       "    </tr>\n",
       "    <tr>\n",
       "      <th>1</th>\n",
       "      <td>This  earphones are unreliable, i bought it be...</td>\n",
       "      <td>1</td>\n",
       "      <td>0</td>\n",
       "      <td>Negative</td>\n",
       "    </tr>\n",
       "    <tr>\n",
       "      <th>2</th>\n",
       "      <td>i bought itfor 999,I purchased it second time,...</td>\n",
       "      <td>4</td>\n",
       "      <td>2</td>\n",
       "      <td>Positive</td>\n",
       "    </tr>\n",
       "    <tr>\n",
       "      <th>3</th>\n",
       "      <td>Its sound quality is adorable. overall it was ...</td>\n",
       "      <td>1</td>\n",
       "      <td>0</td>\n",
       "      <td>Negative</td>\n",
       "    </tr>\n",
       "    <tr>\n",
       "      <th>4</th>\n",
       "      <td>Its Awesome... Good sound quality &amp; 8-9 hrs ba...</td>\n",
       "      <td>5</td>\n",
       "      <td>2</td>\n",
       "      <td>Positive</td>\n",
       "    </tr>\n",
       "  </tbody>\n",
       "</table>\n",
       "</div>"
      ],
      "text/plain": [
       "                                                text  rating  sentiment_score  \\\n",
       "0  No doubt it has a great bass and to a great ex...       3                1   \n",
       "1  This  earphones are unreliable, i bought it be...       1                0   \n",
       "2  i bought itfor 999,I purchased it second time,...       4                2   \n",
       "3  Its sound quality is adorable. overall it was ...       1                0   \n",
       "4  Its Awesome... Good sound quality & 8-9 hrs ba...       5                2   \n",
       "\n",
       "  sentiment  \n",
       "0   Neutral  \n",
       "1  Negative  \n",
       "2  Positive  \n",
       "3  Negative  \n",
       "4  Positive  "
      ]
     },
     "execution_count": 25,
     "metadata": {},
     "output_type": "execute_result"
    }
   ],
   "source": [
    "df_reviews.head()"
   ]
  },
  {
   "cell_type": "code",
   "execution_count": 26,
   "id": "2f076167-8478-4159-aca3-4377e33acaac",
   "metadata": {},
   "outputs": [],
   "source": [
    "df_reviews['words'] = df_reviews['text'].apply(lambda x:str(x).split())"
   ]
  },
  {
   "cell_type": "code",
   "execution_count": 27,
   "id": "9ab560a2-478c-4010-81b4-fafa80cbad17",
   "metadata": {},
   "outputs": [
    {
     "data": {
      "text/plain": [
       "<Axes: xlabel='count', ylabel='top_words'>"
      ]
     },
     "execution_count": 27,
     "metadata": {},
     "output_type": "execute_result"
    }
   ],
   "source": [
    "# viewing the plot of top words of the positive sentiment class\n",
    "df_positive_reviews = df_reviews[df_reviews['sentiment']=='Positive']\n",
    "get_top_words_per_sentiment(df_positive_reviews)"
   ]
  },
  {
   "cell_type": "markdown",
   "id": "34d26feb-277e-4a32-b49a-a8438fe61b0d",
   "metadata": {},
   "source": [
    "Data Splitting\n",
    "Splitting data using stratified sampling to force the same class balance in the train, validate, and test dataset as in the original dataset."
   ]
  },
  {
   "cell_type": "code",
   "execution_count": 28,
   "id": "0aee31d0-29c2-452a-9ef4-fb2dd42801bc",
   "metadata": {},
   "outputs": [
    {
     "name": "stdout",
     "output_type": "stream",
     "text": [
      "(11469,) (2868,) (11469,) (2868,)\n",
      "(9175,) (2294,) (9175,) (2294,)\n"
     ]
    }
   ],
   "source": [
    "# creating 20% of original dataset as the test dataset while keeping the remaining dataset\n",
    "remaining, test = train_test_split(df_reviews, test_size = 0.2, stratify=df_reviews['sentiment_score'])\n",
    "     \n",
    "\n",
    "# preparing the test dataset\n",
    "X_remaining = remaining['text']\n",
    "X_test = test['text']\n",
    "y_remaining = remaining['sentiment_score']\n",
    "y_test = test['sentiment_score']\n",
    "     \n",
    "\n",
    "# viewing the shape of the datasets\n",
    "print(X_remaining.shape, X_test.shape, y_remaining.shape, y_test.shape)\n",
    "\n",
    "\n",
    "# creating 20% of remaining dataset as the validation dataset while keeping the train dataset\n",
    "train, validate = train_test_split(remaining, test_size = 0.2, stratify=remaining['sentiment_score'])\n",
    "     \n",
    "\n",
    "# preparing the train dataset and validation dataset\n",
    "X_train = train['text']\n",
    "X_validate = validate['text']\n",
    "y_train = train['sentiment_score']\n",
    "y_validate = validate['sentiment_score']\n",
    "     \n",
    "# viewing the shape of the datasets\n",
    "print(X_train.shape, X_validate.shape, y_train.shape, y_validate.shape)\n",
    "     \n"
   ]
  },
  {
   "cell_type": "markdown",
   "id": "faf2b979-a07e-46a3-a198-3006a13d82ab",
   "metadata": {},
   "source": [
    "Tokenization"
   ]
  },
  {
   "cell_type": "code",
   "execution_count": 29,
   "id": "a7e33ad0-c6f7-45f3-b9b9-f483411e234e",
   "metadata": {},
   "outputs": [],
   "source": [
    "# defininig a sentiment tokenizer class\n",
    "class SentimentTokenizer:\n",
    "\n",
    "  # initializes the tokenizer using the vocabulary size and the out of vocabulary (oov) token\n",
    "  def __init__(self, vocabulary_size=1000,oov_token = \"\"):\n",
    "    self.vocabulary_size = vocabulary_size\n",
    "    self.oov_token = oov_token\n",
    "    self.tokenizer = Tokenizer(num_words=self.vocabulary_size, oov_token=self.oov_token)\n",
    "\n",
    "  # fits the tokenizer on the training data\n",
    "  def fit(self, train_data):\n",
    "    self.tokenizer.fit_on_texts(train_data)\n",
    "\n",
    "  # gets the dictionary of words-index pairs\n",
    "  def get_word_index(self):\n",
    "    word_index = self.tokenizer.word_index\n",
    "    return word_index\n",
    "\n",
    "  # gets the vocabulary size\n",
    "  def get_vocabulary_size(self):\n",
    "    vocabulary_size = len(self.get_word_index())\n",
    "    return vocabulary_size\n",
    "\n",
    "  # representing the text as a sequence of numbers\n",
    "  def convert(self, data):\n",
    "    sequenced_data = self.tokenizer.texts_to_sequences(data)\n",
    "    return sequenced_data"
   ]
  },
  {
   "cell_type": "code",
   "execution_count": 30,
   "id": "2dca26a5-64a0-4ea5-98d0-5f36d37bdd5a",
   "metadata": {},
   "outputs": [],
   "source": [
    "# creating a tokenizer and fitting it to the train text\n",
    "current_tokenizer = SentimentTokenizer()\n",
    "current_tokenizer.fit(X_train)\n",
    "word_index = current_tokenizer.get_word_index()\n",
    "vocabulary_size = current_tokenizer.get_vocabulary_size()\n",
    "\n",
    "# representing the train, validate, and test text as a sequence of numbers\n",
    "X_train_sequences = current_tokenizer.convert(X_train)\n",
    "X_validate_sequences = current_tokenizer.convert(X_validate)\n",
    "X_test_sequences = current_tokenizer.convert(X_test)"
   ]
  },
  {
   "cell_type": "markdown",
   "id": "88619932-6161-4d8f-81f7-59dcaecb9da7",
   "metadata": {},
   "source": [
    "\n",
    "Padding"
   ]
  },
  {
   "cell_type": "code",
   "execution_count": 31,
   "id": "ed242b4c-56b7-4134-ad99-1efd5af6b3df",
   "metadata": {},
   "outputs": [],
   "source": [
    "# defininig a sentiment padder class\n",
    "class SentimentPadder:\n",
    "\n",
    "  # initializing the parameters\n",
    "  def __init__(self, maximum_length=100, padding_type = 'post', truncation_type='post'):\n",
    "    self.maximum_length = maximum_length\n",
    "    self.padding_type = padding_type\n",
    "    self.truncation_type = truncation_type\n",
    "\n",
    "  # padding operations will take place at the end of the sequences\n",
    "  def pad(self, data):\n",
    "    padded_sequence = pad_sequences(data,maxlen=self.maximum_length,\n",
    "                               padding=self.padding_type, truncating=self.truncation_type)\n",
    "    return padded_sequence"
   ]
  },
  {
   "cell_type": "code",
   "execution_count": 32,
   "id": "df47e59f-1ce2-43bd-a40e-a06242e86ae5",
   "metadata": {},
   "outputs": [
    {
     "data": {
      "text/plain": [
       "array([[825,   5,   8, ...,  40,  24, 225],\n",
       "       [256, 232,  50, ...,   0,   0,   0],\n",
       "       [  5,  24,   0, ...,   0,   0,   0],\n",
       "       ...,\n",
       "       [ 19, 101, 493, ...,   0,   0,   0],\n",
       "       [123,   9, 934, ...,   0,   0,   0],\n",
       "       [ 41,   0,   0, ...,   0,   0,   0]])"
      ]
     },
     "execution_count": 32,
     "metadata": {},
     "output_type": "execute_result"
    }
   ],
   "source": [
    "# creating a padder\n",
    "current_padder = SentimentPadder()\n",
    "\n",
    "# padding the train, validate, and test tokenized sequences\n",
    "X_train_padded = current_padder.pad(X_train_sequences)\n",
    "X_validate_padded = current_padder.pad(X_validate_sequences)\n",
    "X_test_padded = current_padder.pad(X_test_sequences)\n",
    "     \n",
    "\n",
    "# viewing if all the sequences are of same length in train data\n",
    "X_train_padded"
   ]
  },
  {
   "cell_type": "code",
   "execution_count": 33,
   "id": "53818101-b62a-4a79-9ec1-858aca640e75",
   "metadata": {},
   "outputs": [
    {
     "name": "stdout",
     "output_type": "stream",
     "text": [
      "Total number of word vectors = 400000\n"
     ]
    }
   ],
   "source": [
    "import numpy as np\n",
    "\n",
    "# Dictionary to hold the word embeddings\n",
    "embeddings_index = {}\n",
    "\n",
    "# Open the GloVe file with 'utf-8' encoding\n",
    "with open('C:/Users/mramy/Downloads/earphones/glove/glove.6B.100d.txt', encoding='utf-8') as glove_file:\n",
    "    for line in glove_file:\n",
    "        values = line.split()\n",
    "        word = values[0]\n",
    "        coefs = np.asarray(values[1:], dtype='float32')\n",
    "        embeddings_index[word] = coefs\n",
    "\n",
    "print(f'Total number of word vectors = {len(embeddings_index)}')\n"
   ]
  },
  {
   "cell_type": "code",
   "execution_count": 34,
   "id": "4a1f1379-e617-48d1-97e6-6ef257abd7a9",
   "metadata": {},
   "outputs": [],
   "source": [
    "from keras.layers import Embedding\n",
    "import numpy as np\n",
    "# defininig a sentiment embedding class\n",
    "class SentimentEmbedding:\n",
    "  \n",
    "  # initializing the parameters\n",
    "  def __init__(self, maximum_length=100):\n",
    "    self.maximum_length = maximum_length\n",
    "\n",
    "  # gets the word embedding matrix for all the words in the word index\n",
    "  def get_matrix(self, word_index):\n",
    "    embedding_matrix = np.zeros((len(word_index) + 1, self.maximum_length))\n",
    "    for word, index in word_index.items():\n",
    "        embedding_vector = embeddings_index.get(word)\n",
    "        if embedding_vector is not None:\n",
    "            embedding_matrix[index] = embedding_vector\n",
    "            \n",
    "    return embedding_matrix\n",
    "\n",
    "  # gets the embedding layer\n",
    "  def get_layer(self, vocabulary_size, embedding_matrix, trainable=False):\n",
    "    embedding_layer = Embedding(input_dim=vocabulary_size + 1,\n",
    "                                    output_dim=self.maximum_length, \n",
    "                                    weights=[embedding_matrix],\n",
    "                                    input_length=self.maximum_length,\n",
    "                                    trainable=trainable)\n",
    "    \n",
    "    return embedding_layer"
   ]
  },
  {
   "cell_type": "code",
   "execution_count": 35,
   "id": "ebfb6676-0339-4c31-9f12-f66e1601a300",
   "metadata": {},
   "outputs": [
    {
     "name": "stderr",
     "output_type": "stream",
     "text": [
      "C:\\Users\\mramy\\anaconda3\\Lib\\site-packages\\keras\\src\\layers\\core\\embedding.py:90: UserWarning: Argument `input_length` is deprecated. Just remove it.\n",
      "  warnings.warn(\n"
     ]
    }
   ],
   "source": [
    "# creating an embedder\n",
    "current_embedding = SentimentEmbedding()\n",
    "\n",
    "# creating an embedding layer that will serve as the first layer in the sentiment model\n",
    "embedding_matrix = current_embedding.get_matrix(word_index)\n",
    "embedding_layer = current_embedding.get_layer(vocabulary_size,embedding_matrix)"
   ]
  },
  {
   "cell_type": "markdown",
   "id": "65c442c4-53df-44f7-a30d-1451adb9c3ce",
   "metadata": {},
   "source": [
    "Evaluation Metric"
   ]
  },
  {
   "cell_type": "code",
   "execution_count": 36,
   "id": "f60ae28a-a02d-42dd-9425-d086d7d0356f",
   "metadata": {},
   "outputs": [],
   "source": [
    "# defininig a sentiment model class\n",
    "\n",
    "class SentimentModel:\n",
    "\n",
    "  # initializing the parameters\n",
    "  def __init__(self, embedding_layer, epochs = 200, batch_size = 512,\n",
    "               verbose_level = 2, best_model_path = 'best_model.keras',\n",
    "               patience = 20, class_weights=None):\n",
    "    \n",
    "    self.embedding_layer = embedding_layer\n",
    "    self.epochs = epochs\n",
    "    self.batch_size = batch_size\n",
    "    self.verbose_level = verbose_level\n",
    "    self.best_model_path = best_model_path\n",
    "    self.patience = patience\n",
    "    self.class_weights = class_weights\n",
    "\n",
    "    self.callbacks = [\n",
    "            EarlyStopping(monitor='val_loss', patience=self.patience, mode='min', min_delta=0.0001),\n",
    "            ModelCheckpoint(best_model_path, monitor='val_loss', save_best_only=True, mode='min')\n",
    "            ]\n",
    "\n",
    "    # defining the model\n",
    "    self.model = Sequential([\n",
    "            self.embedding_layer,\n",
    "            LSTM(64, dropout=0.2, return_sequences=True),\n",
    "            LSTM(64, dropout=0.2),\n",
    "            Dense(10, activation='relu'),\n",
    "            Dense(number_of_classes, activation='softmax')\n",
    "        ])\n",
    "    \n",
    "  # gets the summary of the model\n",
    "  def get_summary(self):\n",
    "      return self.model.summary()\n",
    "    \n",
    "  # compiles the model\n",
    "  def compile(self, loss=\"sparse_categorical_crossentropy\", optimizer= \"adam\", metrics=['accuracy']):\n",
    "    self.model.compile(loss=loss, optimizer=optimizer, metrics=metrics)\n",
    "\n",
    "  # returns the history after the model is fit to the training data and validated using validation data\n",
    "  def fit(self, X_train, y_train, X_validate, y_validate):\n",
    "    history = self.model.fit(X_train, y_train, epochs=self.epochs,\n",
    "                    validation_data=(X_validate,y_validate), callbacks=self.callbacks, shuffle=True,\n",
    "                    verbose=self.verbose_level, batch_size=self.batch_size, class_weight=self.class_weights)\n",
    "    \n",
    "    return history\n",
    "\n",
    "  # generates the accuracy graph showcasing training accuracy and validation accuracy\n",
    "  def generate_accuracy_graph(self, history):\n",
    "    plt.plot(history.history['accuracy'], 'b')\n",
    "    plt.plot(history.history['val_accuracy'], 'r')\n",
    "    plt.title('Model Accuracy'),\n",
    "    plt.xlabel('Epochs')\n",
    "    plt.ylabel('Accuracy')\n",
    "    plt.legend(['Train', 'Validation'], loc='upper left')\n",
    "    return plt.show()\n",
    "\n",
    "  # generates the loss graph showcasing the training loss and validation loss\n",
    "  def generate_loss_graph(self, history):\n",
    "    plt.plot(history.history['loss'], 'b')\n",
    "    plt.plot(history.history['val_loss'], 'r')\n",
    "    plt.title('Model Loss'),\n",
    "    plt.xlabel('Epochs')\n",
    "    plt.ylabel('Loss')\n",
    "    plt.legend(['Train', 'Validation'], loc='upper left')\n",
    "    return plt.show()\n",
    "\n",
    "  # gets the predicted sentiments for test texts using the best model\n",
    "  def get_predicted_sentiments(self, X_test):\n",
    "    best_model = load_model(self.best_model_path)\n",
    "    y_pred = np.argmax(best_model.predict(X_test), axis=-1)\n",
    "    return y_pred\n",
    "\n",
    "  # plots the confusion matrix\n",
    "  def plot_confusion_matrix(self, y_test, y_pred):\n",
    "    ax = sns.heatmap(confusion_matrix(y_test,y_pred), annot=True,fmt='.2f')\n",
    "    ax.set_xlabel('Predicted Sentiment')\n",
    "    ax.set_ylabel('True Sentiment')\n",
    "    ax.set_title('Confusion Matrix')\n",
    "    ax.xaxis.set_ticklabels(['Negative','Neutral','Positve'])\n",
    "    ax.yaxis.set_ticklabels(['Negative','Neutral','Positve'])\n",
    "    return plt.show()\n",
    "\n",
    "  # gets the classification report\n",
    "  def get_classification_report(self, y_test, y_pred):\n",
    "    return classification_report(y_test,y_pred)"
   ]
  },
  {
   "cell_type": "markdown",
   "id": "c6b54002-6d54-4ac9-9872-7d99d3a627ec",
   "metadata": {},
   "source": [
    "2 LSTM Layers with 64 Units\n"
   ]
  },
  {
   "cell_type": "code",
   "execution_count": 37,
   "id": "28809c37-c9c0-4442-bffe-9c97bd3de187",
   "metadata": {},
   "outputs": [
    {
     "data": {
      "text/html": [
       "<pre style=\"white-space:pre;overflow-x:auto;line-height:normal;font-family:Menlo,'DejaVu Sans Mono',consolas,'Courier New',monospace\"><span style=\"font-weight: bold\">Model: \"sequential\"</span>\n",
       "</pre>\n"
      ],
      "text/plain": [
       "\u001b[1mModel: \"sequential\"\u001b[0m\n"
      ]
     },
     "metadata": {},
     "output_type": "display_data"
    },
    {
     "data": {
      "text/html": [
       "<pre style=\"white-space:pre;overflow-x:auto;line-height:normal;font-family:Menlo,'DejaVu Sans Mono',consolas,'Courier New',monospace\">┏━━━━━━━━━━━━━━━━━━━━━━━━━━━━━━━━━━━━━━┳━━━━━━━━━━━━━━━━━━━━━━━━━━━━━┳━━━━━━━━━━━━━━━━━┓\n",
       "┃<span style=\"font-weight: bold\"> Layer (type)                         </span>┃<span style=\"font-weight: bold\"> Output Shape                </span>┃<span style=\"font-weight: bold\">         Param # </span>┃\n",
       "┡━━━━━━━━━━━━━━━━━━━━━━━━━━━━━━━━━━━━━━╇━━━━━━━━━━━━━━━━━━━━━━━━━━━━━╇━━━━━━━━━━━━━━━━━┩\n",
       "│ embedding (<span style=\"color: #0087ff; text-decoration-color: #0087ff\">Embedding</span>)                │ (<span style=\"color: #00d7ff; text-decoration-color: #00d7ff\">None</span>, <span style=\"color: #00af00; text-decoration-color: #00af00\">100</span>, <span style=\"color: #00af00; text-decoration-color: #00af00\">100</span>)            │         <span style=\"color: #00af00; text-decoration-color: #00af00\">892,700</span> │\n",
       "├──────────────────────────────────────┼─────────────────────────────┼─────────────────┤\n",
       "│ lstm (<span style=\"color: #0087ff; text-decoration-color: #0087ff\">LSTM</span>)                          │ (<span style=\"color: #00d7ff; text-decoration-color: #00d7ff\">None</span>, <span style=\"color: #00af00; text-decoration-color: #00af00\">100</span>, <span style=\"color: #00af00; text-decoration-color: #00af00\">64</span>)             │          <span style=\"color: #00af00; text-decoration-color: #00af00\">42,240</span> │\n",
       "├──────────────────────────────────────┼─────────────────────────────┼─────────────────┤\n",
       "│ lstm_1 (<span style=\"color: #0087ff; text-decoration-color: #0087ff\">LSTM</span>)                        │ (<span style=\"color: #00d7ff; text-decoration-color: #00d7ff\">None</span>, <span style=\"color: #00af00; text-decoration-color: #00af00\">64</span>)                  │          <span style=\"color: #00af00; text-decoration-color: #00af00\">33,024</span> │\n",
       "├──────────────────────────────────────┼─────────────────────────────┼─────────────────┤\n",
       "│ dense (<span style=\"color: #0087ff; text-decoration-color: #0087ff\">Dense</span>)                        │ (<span style=\"color: #00d7ff; text-decoration-color: #00d7ff\">None</span>, <span style=\"color: #00af00; text-decoration-color: #00af00\">10</span>)                  │             <span style=\"color: #00af00; text-decoration-color: #00af00\">650</span> │\n",
       "├──────────────────────────────────────┼─────────────────────────────┼─────────────────┤\n",
       "│ dense_1 (<span style=\"color: #0087ff; text-decoration-color: #0087ff\">Dense</span>)                      │ (<span style=\"color: #00d7ff; text-decoration-color: #00d7ff\">None</span>, <span style=\"color: #00af00; text-decoration-color: #00af00\">3</span>)                   │              <span style=\"color: #00af00; text-decoration-color: #00af00\">33</span> │\n",
       "└──────────────────────────────────────┴─────────────────────────────┴─────────────────┘\n",
       "</pre>\n"
      ],
      "text/plain": [
       "┏━━━━━━━━━━━━━━━━━━━━━━━━━━━━━━━━━━━━━━┳━━━━━━━━━━━━━━━━━━━━━━━━━━━━━┳━━━━━━━━━━━━━━━━━┓\n",
       "┃\u001b[1m \u001b[0m\u001b[1mLayer (type)                        \u001b[0m\u001b[1m \u001b[0m┃\u001b[1m \u001b[0m\u001b[1mOutput Shape               \u001b[0m\u001b[1m \u001b[0m┃\u001b[1m \u001b[0m\u001b[1m        Param #\u001b[0m\u001b[1m \u001b[0m┃\n",
       "┡━━━━━━━━━━━━━━━━━━━━━━━━━━━━━━━━━━━━━━╇━━━━━━━━━━━━━━━━━━━━━━━━━━━━━╇━━━━━━━━━━━━━━━━━┩\n",
       "│ embedding (\u001b[38;5;33mEmbedding\u001b[0m)                │ (\u001b[38;5;45mNone\u001b[0m, \u001b[38;5;34m100\u001b[0m, \u001b[38;5;34m100\u001b[0m)            │         \u001b[38;5;34m892,700\u001b[0m │\n",
       "├──────────────────────────────────────┼─────────────────────────────┼─────────────────┤\n",
       "│ lstm (\u001b[38;5;33mLSTM\u001b[0m)                          │ (\u001b[38;5;45mNone\u001b[0m, \u001b[38;5;34m100\u001b[0m, \u001b[38;5;34m64\u001b[0m)             │          \u001b[38;5;34m42,240\u001b[0m │\n",
       "├──────────────────────────────────────┼─────────────────────────────┼─────────────────┤\n",
       "│ lstm_1 (\u001b[38;5;33mLSTM\u001b[0m)                        │ (\u001b[38;5;45mNone\u001b[0m, \u001b[38;5;34m64\u001b[0m)                  │          \u001b[38;5;34m33,024\u001b[0m │\n",
       "├──────────────────────────────────────┼─────────────────────────────┼─────────────────┤\n",
       "│ dense (\u001b[38;5;33mDense\u001b[0m)                        │ (\u001b[38;5;45mNone\u001b[0m, \u001b[38;5;34m10\u001b[0m)                  │             \u001b[38;5;34m650\u001b[0m │\n",
       "├──────────────────────────────────────┼─────────────────────────────┼─────────────────┤\n",
       "│ dense_1 (\u001b[38;5;33mDense\u001b[0m)                      │ (\u001b[38;5;45mNone\u001b[0m, \u001b[38;5;34m3\u001b[0m)                   │              \u001b[38;5;34m33\u001b[0m │\n",
       "└──────────────────────────────────────┴─────────────────────────────┴─────────────────┘\n"
      ]
     },
     "metadata": {},
     "output_type": "display_data"
    },
    {
     "data": {
      "text/html": [
       "<pre style=\"white-space:pre;overflow-x:auto;line-height:normal;font-family:Menlo,'DejaVu Sans Mono',consolas,'Courier New',monospace\"><span style=\"font-weight: bold\"> Total params: </span><span style=\"color: #00af00; text-decoration-color: #00af00\">968,647</span> (3.70 MB)\n",
       "</pre>\n"
      ],
      "text/plain": [
       "\u001b[1m Total params: \u001b[0m\u001b[38;5;34m968,647\u001b[0m (3.70 MB)\n"
      ]
     },
     "metadata": {},
     "output_type": "display_data"
    },
    {
     "data": {
      "text/html": [
       "<pre style=\"white-space:pre;overflow-x:auto;line-height:normal;font-family:Menlo,'DejaVu Sans Mono',consolas,'Courier New',monospace\"><span style=\"font-weight: bold\"> Trainable params: </span><span style=\"color: #00af00; text-decoration-color: #00af00\">75,947</span> (296.67 KB)\n",
       "</pre>\n"
      ],
      "text/plain": [
       "\u001b[1m Trainable params: \u001b[0m\u001b[38;5;34m75,947\u001b[0m (296.67 KB)\n"
      ]
     },
     "metadata": {},
     "output_type": "display_data"
    },
    {
     "data": {
      "text/html": [
       "<pre style=\"white-space:pre;overflow-x:auto;line-height:normal;font-family:Menlo,'DejaVu Sans Mono',consolas,'Courier New',monospace\"><span style=\"font-weight: bold\"> Non-trainable params: </span><span style=\"color: #00af00; text-decoration-color: #00af00\">892,700</span> (3.41 MB)\n",
       "</pre>\n"
      ],
      "text/plain": [
       "\u001b[1m Non-trainable params: \u001b[0m\u001b[38;5;34m892,700\u001b[0m (3.41 MB)\n"
      ]
     },
     "metadata": {},
     "output_type": "display_data"
    }
   ],
   "source": [
    "\n",
    "max_sequence_length = 100\n",
    "# Building the initial model\n",
    "initial_model = SentimentModel(\n",
    "    embedding_layer=embedding_layer, \n",
    "    best_model_path='best_initial_model.keras'  # Change .hdf5 to .keras\n",
    ")\n",
    "\n",
    "initial_model.model.build(input_shape=(None, max_sequence_length))\n",
    "\n",
    "\n",
    "initial_model.get_summary()\n"
   ]
  },
  {
   "cell_type": "code",
   "execution_count": 38,
   "id": "db927cc8-68f5-4047-8dc6-1cf4efe431e8",
   "metadata": {},
   "outputs": [],
   "source": [
    "initial_model.compile()"
   ]
  },
  {
   "cell_type": "code",
   "execution_count": 39,
   "id": "83ce5b0f-306a-4bc8-bd17-0920edf6b753",
   "metadata": {},
   "outputs": [
    {
     "name": "stdout",
     "output_type": "stream",
     "text": [
      "Epoch 1/200\n",
      "18/18 - 19s - 1s/step - accuracy: 0.6348 - loss: 1.0028 - val_accuracy: 0.6556 - val_loss: 0.8679\n",
      "Epoch 2/200\n",
      "18/18 - 15s - 843ms/step - accuracy: 0.6558 - loss: 0.8575 - val_accuracy: 0.6556 - val_loss: 0.8551\n",
      "Epoch 3/200\n",
      "18/18 - 15s - 858ms/step - accuracy: 0.6558 - loss: 0.8551 - val_accuracy: 0.6556 - val_loss: 0.8551\n",
      "Epoch 4/200\n",
      "18/18 - 15s - 857ms/step - accuracy: 0.6558 - loss: 0.8549 - val_accuracy: 0.6556 - val_loss: 0.8560\n",
      "Epoch 5/200\n",
      "18/18 - 16s - 876ms/step - accuracy: 0.6559 - loss: 0.8550 - val_accuracy: 0.6556 - val_loss: 0.8552\n",
      "Epoch 6/200\n",
      "18/18 - 14s - 789ms/step - accuracy: 0.6553 - loss: 0.8555 - val_accuracy: 0.6556 - val_loss: 0.8557\n",
      "Epoch 7/200\n",
      "18/18 - 14s - 766ms/step - accuracy: 0.6558 - loss: 0.8549 - val_accuracy: 0.6556 - val_loss: 0.8552\n",
      "Epoch 8/200\n",
      "18/18 - 15s - 814ms/step - accuracy: 0.6558 - loss: 0.8540 - val_accuracy: 0.6556 - val_loss: 0.8547\n",
      "Epoch 9/200\n",
      "18/18 - 14s - 786ms/step - accuracy: 0.6559 - loss: 0.8532 - val_accuracy: 0.6530 - val_loss: 0.8541\n",
      "Epoch 10/200\n",
      "18/18 - 14s - 778ms/step - accuracy: 0.6528 - loss: 0.8507 - val_accuracy: 0.6364 - val_loss: 0.8342\n",
      "Epoch 11/200\n",
      "18/18 - 14s - 767ms/step - accuracy: 0.6861 - loss: 0.8127 - val_accuracy: 0.7241 - val_loss: 0.7528\n",
      "Epoch 12/200\n",
      "18/18 - 15s - 841ms/step - accuracy: 0.7055 - loss: 0.7915 - val_accuracy: 0.7280 - val_loss: 0.7626\n",
      "Epoch 13/200\n",
      "18/18 - 16s - 889ms/step - accuracy: 0.6962 - loss: 0.7918 - val_accuracy: 0.7206 - val_loss: 0.7887\n",
      "Epoch 14/200\n",
      "18/18 - 17s - 918ms/step - accuracy: 0.6989 - loss: 0.7851 - val_accuracy: 0.7232 - val_loss: 0.8005\n",
      "Epoch 15/200\n",
      "18/18 - 16s - 914ms/step - accuracy: 0.7064 - loss: 0.8130 - val_accuracy: 0.7193 - val_loss: 0.7870\n",
      "Epoch 16/200\n",
      "18/18 - 16s - 887ms/step - accuracy: 0.6735 - loss: 0.8078 - val_accuracy: 0.6094 - val_loss: 0.8111\n",
      "Epoch 17/200\n",
      "18/18 - 15s - 861ms/step - accuracy: 0.6265 - loss: 0.8067 - val_accuracy: 0.6556 - val_loss: 0.7880\n",
      "Epoch 18/200\n",
      "18/18 - 15s - 843ms/step - accuracy: 0.6558 - loss: 0.7964 - val_accuracy: 0.6556 - val_loss: 0.7928\n",
      "Epoch 19/200\n",
      "18/18 - 15s - 836ms/step - accuracy: 0.6558 - loss: 0.7933 - val_accuracy: 0.6556 - val_loss: 0.7731\n",
      "Epoch 20/200\n",
      "18/18 - 15s - 853ms/step - accuracy: 0.6558 - loss: 0.7999 - val_accuracy: 0.6556 - val_loss: 0.7936\n",
      "Epoch 21/200\n",
      "18/18 - 16s - 881ms/step - accuracy: 0.6558 - loss: 0.7932 - val_accuracy: 0.6556 - val_loss: 0.7775\n",
      "Epoch 22/200\n",
      "18/18 - 16s - 884ms/step - accuracy: 0.6558 - loss: 0.7975 - val_accuracy: 0.6556 - val_loss: 0.8072\n",
      "Epoch 23/200\n",
      "18/18 - 17s - 940ms/step - accuracy: 0.6787 - loss: 0.8015 - val_accuracy: 0.7123 - val_loss: 0.7851\n",
      "Epoch 24/200\n",
      "18/18 - 16s - 910ms/step - accuracy: 0.6993 - loss: 0.7815 - val_accuracy: 0.7062 - val_loss: 0.7724\n",
      "Epoch 25/200\n",
      "18/18 - 16s - 875ms/step - accuracy: 0.7025 - loss: 0.7861 - val_accuracy: 0.7123 - val_loss: 0.7752\n",
      "Epoch 26/200\n",
      "18/18 - 15s - 832ms/step - accuracy: 0.6995 - loss: 0.7819 - val_accuracy: 0.7066 - val_loss: 0.7704\n",
      "Epoch 27/200\n",
      "18/18 - 18s - 974ms/step - accuracy: 0.7003 - loss: 0.7814 - val_accuracy: 0.7119 - val_loss: 0.7696\n",
      "Epoch 28/200\n",
      "18/18 - 19s - 1s/step - accuracy: 0.6996 - loss: 0.7783 - val_accuracy: 0.6133 - val_loss: 0.7920\n",
      "Epoch 29/200\n",
      "18/18 - 19s - 1s/step - accuracy: 0.5094 - loss: 0.8376 - val_accuracy: 0.4490 - val_loss: 0.8597\n",
      "Epoch 30/200\n",
      "18/18 - 17s - 947ms/step - accuracy: 0.5926 - loss: 0.8358 - val_accuracy: 0.6556 - val_loss: 0.8261\n",
      "Epoch 31/200\n",
      "18/18 - 18s - 1s/step - accuracy: 0.6558 - loss: 0.8122 - val_accuracy: 0.6556 - val_loss: 0.8061\n"
     ]
    }
   ],
   "source": [
    "# fitting the initial model\n",
    "initial_model_history = initial_model.fit(X_train_padded,y_train,X_validate_padded,y_validate)"
   ]
  },
  {
   "cell_type": "code",
   "execution_count": 41,
   "id": "3bbc54d0-91ae-4f9b-ae56-64e0f7f14963",
   "metadata": {},
   "outputs": [
    {
     "data": {
      "image/png": "[encoded data removed]",
      "text/plain": [
       "<Figure size 1500x700 with 1 Axes>"
      ]
     },
     "metadata": {},
     "output_type": "display_data"
    }
   ],
   "source": [
    "# generating the graph of training accuracy and validation accuracy for the initial model\n",
    "initial_model.generate_accuracy_graph(initial_model_history)\n",
    "     "
   ]
  },
  {
   "cell_type": "code",
   "execution_count": 42,
   "id": "c93ada74-1323-437d-8318-6ee97bab4219",
   "metadata": {},
   "outputs": [
    {
     "data": {
      "image/png": "[encoded data removed]",
      "text/plain": [
       "<Figure size 1500x700 with 1 Axes>"
      ]
     },
     "metadata": {},
     "output_type": "display_data"
    }
   ],
   "source": [
    "# generating the graph of training loss and validation loss for the initial model\n",
    "initial_model.generate_loss_graph(initial_model_history)"
   ]
  },
  {
   "cell_type": "code",
   "execution_count": 43,
   "id": "683c6b4f-b4f3-42d7-bc31-3aa223d2c365",
   "metadata": {},
   "outputs": [
    {
     "name": "stdout",
     "output_type": "stream",
     "text": [
      "\u001b[1m90/90\u001b[0m \u001b[32m━━━━━━━━━━━━━━━━━━━━\u001b[0m\u001b[37m\u001b[0m \u001b[1m5s\u001b[0m 49ms/step\n"
     ]
    }
   ],
   "source": [
    "# getting the predicted sentiments for the test set via the initial model\n",
    "initial_y_pred = initial_model.get_predicted_sentiments(X_test_padded)\n",
    "     "
   ]
  },
  {
   "cell_type": "code",
   "execution_count": 44,
   "id": "3f97ce42-95ea-4176-b4c7-662be3995fdb",
   "metadata": {},
   "outputs": [
    {
     "data": {
      "image/png": "[encoded data removed]",
      "text/plain": [
       "<Figure size 1500x700 with 2 Axes>"
      ]
     },
     "metadata": {},
     "output_type": "display_data"
    }
   ],
   "source": [
    "# plotting the confusion matrix using the actual sentiment and predicted sentiment\n",
    "initial_model.plot_confusion_matrix(y_test,initial_y_pred)"
   ]
  },
  {
   "cell_type": "code",
   "execution_count": 45,
   "id": "32064bcd-4105-469d-af0f-97c89dd2932a",
   "metadata": {},
   "outputs": [
    {
     "name": "stdout",
     "output_type": "stream",
     "text": [
      "              precision    recall  f1-score   support\n",
      "\n",
      "           0       0.60      0.56      0.58       686\n",
      "           1       0.00      0.00      0.00       301\n",
      "           2       0.77      0.91      0.83      1881\n",
      "\n",
      "    accuracy                           0.73      2868\n",
      "   macro avg       0.46      0.49      0.47      2868\n",
      "weighted avg       0.65      0.73      0.68      2868\n",
      "\n"
     ]
    },
    {
     "name": "stderr",
     "output_type": "stream",
     "text": [
      "C:\\Users\\mramy\\anaconda3\\Lib\\site-packages\\sklearn\\metrics\\_classification.py:1531: UndefinedMetricWarning: Precision is ill-defined and being set to 0.0 in labels with no predicted samples. Use `zero_division` parameter to control this behavior.\n",
      "  _warn_prf(average, modifier, f\"{metric.capitalize()} is\", len(result))\n",
      "C:\\Users\\mramy\\anaconda3\\Lib\\site-packages\\sklearn\\metrics\\_classification.py:1531: UndefinedMetricWarning: Precision is ill-defined and being set to 0.0 in labels with no predicted samples. Use `zero_division` parameter to control this behavior.\n",
      "  _warn_prf(average, modifier, f\"{metric.capitalize()} is\", len(result))\n",
      "C:\\Users\\mramy\\anaconda3\\Lib\\site-packages\\sklearn\\metrics\\_classification.py:1531: UndefinedMetricWarning: Precision is ill-defined and being set to 0.0 in labels with no predicted samples. Use `zero_division` parameter to control this behavior.\n",
      "  _warn_prf(average, modifier, f\"{metric.capitalize()} is\", len(result))\n"
     ]
    }
   ],
   "source": [
    "# printing the classification report that shows the Precision, Recall, and F1-Score per sentiment class\n",
    "print(initial_model.get_classification_report(y_test,initial_y_pred))"
   ]
  },
  {
   "cell_type": "code",
   "execution_count": null,
   "id": "66d30656-017b-426b-9a1b-db9ce0c80ef9",
   "metadata": {},
   "outputs": [],
   "source": []
  }
 ],
 "metadata": {
  "kernelspec": {
   "display_name": "Python 3 (ipykernel)",
   "language": "python",
   "name": "python3"
  },
  "language_info": {
   "codemirror_mode": {
    "name": "ipython",
    "version": 3
   },
   "file_extension": ".py",
   "mimetype": "text/x-python",
   "name": "python",
   "nbconvert_exporter": "python",
   "pygments_lexer": "ipython3",
   "version": "3.11.5"
  }
 },
 "nbformat": 4,
 "nbformat_minor": 5
}
